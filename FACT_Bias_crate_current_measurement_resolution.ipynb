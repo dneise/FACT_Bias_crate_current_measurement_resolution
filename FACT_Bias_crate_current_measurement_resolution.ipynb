{
 "cells": [
  {
   "cell_type": "markdown",
   "metadata": {},
   "source": [
    "# FACT Bias crate current measurement resolution\n",
    "\n",
    "D. Neise 28.07.2017\n",
    "\n",
    "There is a slight mistake in the documentation of the Bias crate. For example in \"GAPDHV2CurrentMeasurement.pdf\" it says: \n",
    "\n",
    "    10 counts equal ~12 μA\n",
    "    \n",
    "Or in \"GAPDBiasSupplyV0222022010.pdf\" where it says:\n",
    "\n",
    "    An individual current measurement is implemented for each single channel with a 12-bit resolution, which practically results in a 1% accuracy due to the channel regulation noise effects. \n",
    "    \n",
    "Here is does say \"12-bit resolution\" but it does not specify the full scale. But elsewhere is says:\n",
    "\n",
    "    Imax = 5mA/channel\n",
    "    \n",
    "So altogether it makes sense, that people assume there is a 12-bit ADC, with a 5mA full scale, resulting in a resolution of 5mA / 4096 steps = 1.2 µA/step or 1.2 µA/LSB. (LSB = least significant bit)\n",
    "\n",
    "However this is *not quite right* ... not quite? ... well yes.\n",
    "\n",
    "----\n",
    "\n",
    "## The schematic: 12bit & 10mA\n",
    "\n",
    "If you look at the schematic, you see the current **I** is measured as a voltage drop over a resistor **R8=100$\\Omega$**. This differential voltage over the resistor is then referenced to GND with a gain of 1, so voltage over resistor is now voltage above GND (done by HV7800). Then it is aplified with a normal non-inverting op-amp with a gain **G=5**. The resulting amplified voltage is fed into an ADC with 12bit resolution and a V$_{ref}$ = 5V, thus it has a resolution of **$U_{step} \\approx$ 1.2mV/LSB**\n",
    "\n",
    "Putting all the bold printed numbers together, we get the resolution of the \"current measuring ADC\" which is formed by these 4 parts working together.\n",
    "\n",
    "$ I_{step} = U_{step} / (G \\cdot R8) \\approx 1.2mV/500\\Omega \\approx 2.4µA$\n",
    "\n",
    "Or if we rather like to look at the full scale, than the step: $I_{FS} = I_{step} \\cdot 4096 = 10mA$\n",
    "\n",
    "This contradicts the statement from \"GAPDHV2CurrentMeasurement.pdf\", if there was not ...\n",
    "\n",
    "## The firmware: 12bit(?) & 5mA\n",
    "\n",
    "The schematic can easily lie ... there could be a different resistor placed on the board, than was planned in the schematic, such last minute changes are not unheared of. Of course I checked this very carefully, when I first found this contradiction between the prose documentation and the schematic and found everything to be on the board exactly as it was mentioned in the schematic. (Well .. apart from the additional 1k$\\Omega$ at the output, but this has no impact in this discussion)\n",
    "\n",
    "So I conducted a test, which was not quickly done ... I can tell you, it took much longer to conduct, that it takes you to read this document, so please pardon its length.\n",
    "\n",
    "I set up a single channel to output a known voltage and attached a know load. The total current (i.e. the \"control current\" and the \"output current\") flowing through **R8=100$\\Omega$** was **I$\\approx 345$µA$**.\n",
    "\n",
    "To make sure I was doing everything correctly, I measured:\n",
    "\n",
    " $U_{R8} = R8 \\cdot  I \\approx 35mV$\n",
    " \n",
    "And then after the G=5 amplification:\n",
    "\n",
    " $U_{ADC} = R8 \\cdot I \\cdot G \\approx 209mV$\n",
    " \n",
    "And then I actually looked with a scope at the outout of the ADC:\n",
    "\n",
    "![SCLK_DATA_and_CS_annotated](SCLK_DATA_and_CS_annotated.png)\n",
    "\n",
    "As you can see, the output was **adc=171 LSB** .. which is very close to the expected 209mV. Also from this number we can calculate:\n",
    "\n",
    "$I_{step} = I / adc \\approx 345µA / 171LSB \\approx 2µA/LSB$\n",
    "\n",
    "This is not exactly the expected result, but close. Now .. that we know the ADC outputs 171 under these conditions, I had look what the bias crate controller sends to the PC.\n",
    "\n",
    "![bias_crate_output_annotated](bias_crate_output_annotated.png)\n",
    "\n",
    "This image is a bit crowded, so:\n",
    "\n",
    "* column[0] left : 3 bytes (24bit) coming from crate controller\n",
    "* column[1] : only the 12 bits, which should be the ADC output\n",
    "* column[2] : the same 12bit converted to hex\n",
    "* column[3] : the same 12bit converted to decimal\n",
    "* bottom: a snippet from the documentation explaining how to read the 24bit coming from the crate\n",
    "\n",
    "If you carefully compare the binary number received from the crate, with the number the ADC was actually outputting, you see that the number is shifted to the left, i.e. multiplied with 2. Also the least significant bit (so the rightmost bit) was duplicated while shifting it. So all the 12bit numbers, which are coming out of the crate, have their two least significant bits always identical.\n",
    "\n",
    "So here is now the solution:\n",
    "\n",
    "While we do receive a 12bit number from the crate, this is acutally only an 11-bit number, the most significant bit (MSB) was cut off, and the LSB got duplicated. And for a 12-bit ADC with a full scale of 10mA, the 11-bits we receive simply form the answer of a hypothetical 11-bit ADC with a full scale of 5mA. \n",
    "\n",
    "## Really? I don't believe you.\n",
    "\n",
    "I understand. So if I was right, all the numbers we ever received from the ADC, must never ... not a single time differ in their two LSBs. Luckily we write all these numbers into aux-files. So let's have a look:"
   ]
  },
  {
   "cell_type": "code",
   "execution_count": 1,
   "metadata": {
    "collapsed": true
   },
   "outputs": [],
   "source": [
    "from fact.auxservices import AuxService\n",
    "import pandas as pd\n",
    "import numpy as np\n",
    "import matplotlib.pyplot as plt\n",
    "%matplotlib inline"
   ]
  },
  {
   "cell_type": "raw",
   "metadata": {},
   "source": [
    "Here I already prepare a function, which simply checks if all the numbers contained in the array `a`, have the two least significant bits identical."
   ]
  },
  {
   "cell_type": "code",
   "execution_count": 2,
   "metadata": {
    "collapsed": true
   },
   "outputs": [],
   "source": [
    "def are_two_least_significant_bits_equal(a):\n",
    "    bit0 = a & 0x1\n",
    "    bit1 = (a & 0x2) > 1\n",
    "    return (bit0 == bit1)"
   ]
  },
  {
   "cell_type": "markdown",
   "metadata": {},
   "source": [
    "Here I open the aux file and plot the ADC values for channel 0, just to show you, we are looking at the right thing"
   ]
  },
  {
   "cell_type": "code",
   "execution_count": 3,
   "metadata": {
    "collapsed": false
   },
   "outputs": [
    {
     "data": {
      "image/png": "[encoded data removed]",
      "text/plain": [
       "<matplotlib.figure.Figure at 0x7f0894ec4cc0>"
      ]
     },
     "metadata": {},
     "output_type": "display_data"
    }
   ],
   "source": [
    "f = AuxService.read_file('20170727.BIAS_CONTROL_CURRENT.fits')\n",
    "f['Time'] = pd.to_datetime(f.Time, unit='d')\n",
    "# just for channel 0\n",
    "plt.figure(figsize=(12, 4))\n",
    "plt.plot(\n",
    "    f.Time,\n",
    "    f.I_0,\n",
    "    '.'\n",
    ");"
   ]
  },
  {
   "cell_type": "markdown",
   "metadata": {},
   "source": [
    "Here now, I loop over all 320 bias channels. I get the entire list of ADC numbers stored, and collapse it channel by channel, to the unique numbers, using the `unique()` function, to make it shorter.\n",
    "After the loop I collapse the collection of all 320-lists again using the `unique()` function, to make it shorter again.\n",
    "Then I show you all the numbers"
   ]
  },
  {
   "cell_type": "code",
   "execution_count": 4,
   "metadata": {
    "collapsed": false
   },
   "outputs": [
    {
     "data": {
      "text/plain": [
       "array([  -4,   -3,   -1,    0,    3,    4,    7,    8,   11,   12,   15,\n",
       "         16,   19,   20,   23,   24,   27,   28,   31,   32,   35,   36,\n",
       "         39,   40,   43,   44,   47,   48,   51,   52,   55,   56,   59,\n",
       "         60,   63,   64,   67,   68,   71,   72,   75,   76,   79,   80,\n",
       "         83,   84,   87,   88,   91,   92,   95,   96,   99,  100,  103,\n",
       "        104,  107,  108,  111,  112,  115,  116,  119,  120,  123,  124,\n",
       "        127,  128,  131,  132,  135,  136,  139,  140,  143,  144,  147,\n",
       "        148,  151,  152,  155,  156,  159,  160,  163,  164,  167,  168,\n",
       "        171,  172,  175,  176,  179,  180,  183,  184,  187,  188,  191,\n",
       "        192,  195,  196,  199,  200,  203,  204,  207,  208,  211,  212,\n",
       "        215,  216,  219,  220,  223,  224,  227,  228,  231,  232,  235,\n",
       "        236,  239,  240,  243,  244,  247,  248,  251,  252,  255,  256,\n",
       "        259,  260,  263,  264,  267,  268,  271,  272,  275,  276,  279,\n",
       "        280,  283,  284,  287,  288,  291,  292,  295,  296,  299,  300,\n",
       "        303,  304,  307,  308,  311,  312,  315,  316,  319,  320,  323,\n",
       "        324,  327,  328,  331,  332,  335,  336,  339,  340,  343,  344,\n",
       "        347,  348,  351,  352,  355,  356,  359,  360,  363,  364,  367,\n",
       "        368,  371,  372,  375,  376,  379,  380,  383,  384,  387,  388,\n",
       "        391,  392,  395,  396,  399,  400,  403,  404,  407,  408,  411,\n",
       "        412,  415,  416,  419,  420,  423,  424,  427,  428,  431,  432,\n",
       "        435,  436,  439,  440,  443,  444,  447,  448,  451,  452,  455,\n",
       "        456,  459,  460,  463,  464,  467,  468,  471,  472,  475,  476,\n",
       "        479,  480,  483,  484,  487,  488,  491,  492,  495,  496,  499,\n",
       "        500,  503,  504,  507,  508,  511,  512,  515,  516,  519,  520,\n",
       "        523,  524,  527,  528,  531,  532,  535,  536,  539,  540,  543,\n",
       "        544,  547,  548,  551,  552,  555,  556,  559,  560,  563,  564,\n",
       "        567,  568,  571,  572,  575,  576,  579,  580,  583,  584,  587,\n",
       "        588,  591,  592,  595,  596,  599,  600,  603,  604,  607,  608,\n",
       "        611,  612,  615,  616,  619,  620,  623,  624,  627,  628,  631,\n",
       "        632,  635,  636,  639,  640,  643,  644,  647,  648,  651,  652,\n",
       "        655,  656,  659,  660,  663,  664,  667,  668,  671,  672,  675,\n",
       "        676,  679,  680,  683,  684,  687,  688,  691,  692,  695,  696,\n",
       "        699,  700,  703,  704,  707,  708,  711,  712,  715,  716,  719,\n",
       "        720,  723,  724,  727,  728,  731,  732,  735,  736,  739,  740,\n",
       "        743,  744,  747,  748,  751,  752,  755,  756,  759,  760,  763,\n",
       "        764,  767,  768,  771,  772,  775,  776,  779,  780,  783,  784,\n",
       "        787,  788,  791,  792,  795,  796,  799,  800,  803,  804,  807,\n",
       "        808,  811,  812,  815,  816,  819,  820,  823,  824,  827,  828,\n",
       "        831,  832,  835,  836,  839,  840,  843,  844,  847,  848,  851,\n",
       "        852,  855,  856,  859,  860,  863,  864,  867,  868,  871,  872,\n",
       "        875,  876,  879,  880,  883,  884,  887,  888,  891,  892,  895,\n",
       "        896,  899,  900,  903,  904,  907,  908,  911,  912,  915,  916,\n",
       "        919,  920,  923,  924,  927,  928,  931,  932,  935,  936,  939,\n",
       "        940,  943,  944,  947,  948,  951,  952,  955,  956,  959,  960,\n",
       "        963,  964,  967,  968,  971,  972,  975,  976,  979,  980,  983,\n",
       "        984,  987,  988,  991,  992,  995,  996,  999, 1000, 1003, 1004,\n",
       "       1007, 1008, 1011, 1012, 1015, 1016, 1019, 1020, 1023])"
      ]
     },
     "execution_count": 4,
     "metadata": {},
     "output_type": "execute_result"
    }
   ],
   "source": [
    "a = []\n",
    "for i in range(320):\n",
    "    a.append(f['I_'+str(i)].unique())\n",
    "unique_numbers = np.unique(np.concatenate(a))\n",
    "unique_numbers"
   ]
  },
  {
   "cell_type": "markdown",
   "metadata": {},
   "source": [
    "Now let's have a look, if all the numbers in this is indeed have their two LSBs identical. If the answer is True, I am right."
   ]
  },
  {
   "cell_type": "code",
   "execution_count": 5,
   "metadata": {
    "collapsed": false
   },
   "outputs": [
    {
     "data": {
      "text/plain": [
       "False"
      ]
     },
     "execution_count": 5,
     "metadata": {},
     "output_type": "execute_result"
    }
   ],
   "source": [
    "are_two_least_significant_bits_equal(unique_numbers).all()"
   ]
  },
  {
   "cell_type": "markdown",
   "metadata": {},
   "source": [
    "The answer is `False`... so I am still right :-D. Have you spotted the problem? \n",
    "\n",
    "Well, there are negative numbers in this list ... and this ADC does not output negative numbers. These negative numbers are artificially created by `biasctrl.cc` in [line 273](https://trac.fact-project.org/browser/trunk/FACT%2B%2B/src/biasctrl.cc#L270). \n",
    "\n",
    "So let's get rid of the negative numbers."
   ]
  },
  {
   "cell_type": "code",
   "execution_count": 6,
   "metadata": {
    "collapsed": false
   },
   "outputs": [
    {
     "data": {
      "text/plain": [
       "True"
      ]
     },
     "execution_count": 6,
     "metadata": {},
     "output_type": "execute_result"
    }
   ],
   "source": [
    "# remove artificial negative ADC codes\n",
    "unique_numbers = unique_numbers[unique_numbers >= 0]  \n",
    "are_two_least_significant_bits_equal(unique_numbers).all()"
   ]
  },
  {
   "cell_type": "markdown",
   "metadata": {},
   "source": [
    "## So what now? Do we measure the current wrong or what?\n",
    "\n",
    "No. Basically all is fine, we calculate the current as if we really had a 12bit 5mA ADC\n",
    "\n",
    "I = code * 5e-3/4096\n",
    "\n",
    "but we really have the lowest 11-bit of a 12-bit 10mA ADC, so \n",
    "\n",
    "I = (code // 2) * 10e-3/4096\n",
    "\n",
    "Which is basically the same. \n",
    "\n",
    "## So if there is basically nothing we do wrong. Why did you write this lengthy document, and why did I read it???\n",
    "\n",
    "Well ... it puzzled me for many weeks ... once I thought, we'd measure the current wrong by a factor off two. So I had to dig deeper. I've written this, to prevent others from dumping a similar amount of time into this question.\n",
    "\n",
    "Basically all to take away from this is: \n",
    "\n",
    "** FACT resolution for SiPM current measurement is ~2.4µA **\n",
    "\n",
    "(The accuracy might be in the same range)"
   ]
  },
  {
   "cell_type": "code",
   "execution_count": null,
   "metadata": {
    "collapsed": true
   },
   "outputs": [],
   "source": []
  }
 ],
 "metadata": {
  "kernelspec": {
   "display_name": "Python 3",
   "language": "python",
   "name": "python3"
  },
  "language_info": {
   "codemirror_mode": {
    "name": "ipython",
    "version": 3
   },
   "file_extension": ".py",
   "mimetype": "text/x-python",
   "name": "python",
   "nbconvert_exporter": "python",
   "pygments_lexer": "ipython3",
   "version": "3.6.0"
  }
 },
 "nbformat": 4,
 "nbformat_minor": 2
}
